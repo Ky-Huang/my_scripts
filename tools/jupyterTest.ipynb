{
 "cells": [
  {
   "cell_type": "code",
   "execution_count": 4,
   "metadata": {},
   "outputs": [],
   "source": [
    "import torch"
   ]
  },
  {
   "cell_type": "code",
   "execution_count": 1,
   "metadata": {},
   "outputs": [
    {
     "ename": "NameError",
     "evalue": "name 'torch' is not defined",
     "output_type": "error",
     "traceback": [
      "\u001b[1;31m---------------------------------------------------------------------------\u001b[0m",
      "\u001b[1;31mNameError\u001b[0m                                 Traceback (most recent call last)",
      "\u001b[1;32mf:\\Codes\\Python\\my_scripts\\tools\\jupyterTest.ipynb 单元格 2\u001b[0m line \u001b[0;36m2\n\u001b[1;32m----> <a href='vscode-notebook-cell:/f%3A/Codes/Python/my_scripts/tools/jupyterTest.ipynb#W1sZmlsZQ%3D%3D?line=1'>2</a>\u001b[0m x \u001b[39m=\u001b[39m torch\u001b[39m.\u001b[39mtensor([[\u001b[39m1\u001b[39m, \u001b[39m2\u001b[39m, \u001b[39m3\u001b[39m],\n\u001b[0;32m      <a href='vscode-notebook-cell:/f%3A/Codes/Python/my_scripts/tools/jupyterTest.ipynb#W1sZmlsZQ%3D%3D?line=2'>3</a>\u001b[0m                 [\u001b[39m4\u001b[39m, \u001b[39m5\u001b[39m, \u001b[39m6\u001b[39m]], dtype\u001b[39m=\u001b[39m\u001b[39mfloat\u001b[39m, requires_grad\u001b[39m=\u001b[39m\u001b[39mTrue\u001b[39;00m)\n\u001b[0;32m      <a href='vscode-notebook-cell:/f%3A/Codes/Python/my_scripts/tools/jupyterTest.ipynb#W1sZmlsZQ%3D%3D?line=3'>4</a>\u001b[0m ind \u001b[39m=\u001b[39m torch\u001b[39m.\u001b[39mtensor([\u001b[39mTrue\u001b[39;00m, \u001b[39mFalse\u001b[39;00m])\n\u001b[0;32m      <a href='vscode-notebook-cell:/f%3A/Codes/Python/my_scripts/tools/jupyterTest.ipynb#W1sZmlsZQ%3D%3D?line=4'>5</a>\u001b[0m y \u001b[39m=\u001b[39m torch\u001b[39m.\u001b[39mrelu(x)\n",
      "\u001b[1;31mNameError\u001b[0m: name 'torch' is not defined"
     ]
    }
   ],
   "source": [
    "\n",
    "x = torch.tensor([[1, 2, 3],\n",
    "                [4, 5, 6]], dtype=float, requires_grad=True)\n",
    "ind = torch.tensor([True, False])\n",
    "y = torch.relu(x)\n",
    "y = y.clone()\n",
    "p = y[:, 2]\n",
    "print(p is y)\n",
    "p[ind] = 0\n",
    "\n",
    "\n",
    "z = y[:, :2]\n",
    "w = y[:, 2]\n",
    "\n",
    "p.mean().backward()\n",
    "\n"
   ]
  },
  {
   "cell_type": "code",
   "execution_count": 4,
   "metadata": {},
   "outputs": [
    {
     "ename": "NameError",
     "evalue": "name 'torch' is not defined",
     "output_type": "error",
     "traceback": [
      "\u001b[1;31m---------------------------------------------------------------------------\u001b[0m",
      "\u001b[1;31mNameError\u001b[0m                                 Traceback (most recent call last)",
      "\u001b[1;32mf:\\Codes\\Python\\my_scripts\\tools\\jupyterTest.ipynb 单元格 3\u001b[0m line \u001b[0;36m2\n\u001b[0;32m      <a href='vscode-notebook-cell:/f%3A/Codes/Python/my_scripts/tools/jupyterTest.ipynb#W2sZmlsZQ%3D%3D?line=0'>1</a>\u001b[0m \u001b[39m# x = torch.tensor([[1, 2, 3, 4, 5, 6]], dtype=float, requires_grad=True)\u001b[39;00m\n\u001b[1;32m----> <a href='vscode-notebook-cell:/f%3A/Codes/Python/my_scripts/tools/jupyterTest.ipynb#W2sZmlsZQ%3D%3D?line=1'>2</a>\u001b[0m x \u001b[39m=\u001b[39m torch\u001b[39m.\u001b[39mtensor([\u001b[39m1\u001b[39m, \u001b[39m2\u001b[39m, \u001b[39m3\u001b[39m], dtype\u001b[39m=\u001b[39m\u001b[39mfloat\u001b[39m)\n\u001b[0;32m      <a href='vscode-notebook-cell:/f%3A/Codes/Python/my_scripts/tools/jupyterTest.ipynb#W2sZmlsZQ%3D%3D?line=2'>3</a>\u001b[0m lin \u001b[39m=\u001b[39m torch\u001b[39m.\u001b[39mnn\u001b[39m.\u001b[39mLinear(\u001b[39m3\u001b[39m, \u001b[39m2\u001b[39m, dtype\u001b[39m=\u001b[39m\u001b[39mfloat\u001b[39m)\n\u001b[0;32m      <a href='vscode-notebook-cell:/f%3A/Codes/Python/my_scripts/tools/jupyterTest.ipynb#W2sZmlsZQ%3D%3D?line=3'>4</a>\u001b[0m y \u001b[39m=\u001b[39m lin(x)\n",
      "\u001b[1;31mNameError\u001b[0m: name 'torch' is not defined"
     ]
    }
   ],
   "source": [
    "# x = torch.tensor([[1, 2, 3, 4, 5, 6]], dtype=float, requires_grad=True)\n",
    "x = torch.tensor([1, 2, 3], dtype=float)\n",
    "lin = torch.nn.Linear(3, 2, dtype=float)\n",
    "y = lin(x)\n",
    "print(y)\n",
    "y[0] = 0\n",
    "print(y)\n",
    "y.mean().backward()"
   ]
  },
  {
   "cell_type": "code",
   "execution_count": 6,
   "metadata": {},
   "outputs": [
    {
     "data": {
      "text/plain": [
       "3176"
      ]
     },
     "execution_count": 6,
     "metadata": {},
     "output_type": "execute_result"
    }
   ],
   "source": [
    "class Solution:\n",
    "    def rob(self, nums: list[int]) -> int:\n",
    "        memo = dict()\n",
    "        def dp(nums):\n",
    "            if len(nums) == 3:\n",
    "                return max(nums[0] + nums[2], nums[1])\n",
    "            if len(nums) == 2:\n",
    "                return max(nums[0], nums[1])\n",
    "            if len(nums) == 1:\n",
    "                return nums[0]\n",
    "            if len(nums) in memo:\n",
    "                return memo[len(nums)]\n",
    "            else:\n",
    "                memo[len(nums)] = max(nums[len(nums)-1] + dp(nums[:len(nums)-2]), dp(nums[:len(nums)-1]))\n",
    "                return memo[len(nums)]\n",
    "            \n",
    "        return dp(nums)\n",
    "    \n",
    "mys = Solution()\n",
    "mys.rob([104,209,137,52,158,67,213,86,141,110,151,127,238,147,169,138,240,185,246,225,147,203,83,83,131,227,54,78,165,180,214,151,111,161,233,147,124,143])\n"
   ]
  },
  {
   "cell_type": "code",
   "execution_count": 9,
   "metadata": {},
   "outputs": [
    {
     "data": {
      "text/plain": [
       "-3"
      ]
     },
     "execution_count": 9,
     "metadata": {},
     "output_type": "execute_result"
    }
   ],
   "source": [
    "# Definition for a binary tree node.\n",
    "class TreeNode:\n",
    "    def __init__(self, val=0, left=None, right=None):\n",
    "        self.val = val\n",
    "        self.left = left\n",
    "        self.right = right\n",
    "# class Solution:\n",
    "#     def sortedArrayToBST(self, nums: List[int]) -> Optional[TreeNode]:\n",
    "#         if not nums:\n",
    "#             return None\n",
    "\n",
    "#         root = TreeNode(nums[len(nums)//2], self.sortedArrayToBST(nums[0:len(nums)//2]), self.sortedArrayToBST(nums[len(nums)//2 + 1:]))\n",
    "#         return root\n",
    "class Solution:\n",
    "    def sortedArrayToBST(self, nums: list[int]):\n",
    "        if not nums:\n",
    "            return None\n",
    "\n",
    "        mid = len(nums) // 2\n",
    "        root = TreeNode(nums[mid])\n",
    "        root.left = self.sortedArrayToBST(nums[:mid])\n",
    "        root.right = self.sortedArrayToBST(nums[mid+1:])\n",
    "        return root\n",
    "ms = Solution()\n",
    "a = ms.sortedArrayToBST([-10,-3,0,5,9])\n",
    "a.left.val"
   ]
  },
  {
   "cell_type": "code",
   "execution_count": 1,
   "metadata": {},
   "outputs": [
    {
     "name": "stdout",
     "output_type": "stream",
     "text": [
      "I'm a class variable\n",
      "I'm a new value\n",
      "I'm a class variable\n"
     ]
    }
   ],
   "source": [
    "class MyClass:\n",
    "    class_var = \"I'm a class variable\"\n",
    "\n",
    "    def print_class_var(self):\n",
    "        print(self.class_var)  # 可以通过 self 访问类变量\n",
    "\n",
    "    def modify_class_var(self, new_value):\n",
    "        self.class_var = new_value  # 实际上是创建或修改实例变量\n",
    "\n",
    "a = MyClass()\n",
    "a.print_class_var()  # 输出: I'm a class variable\n",
    "\n",
    "a.modify_class_var(\"I'm a new value\")\n",
    "a.print_class_var()  # 输出: I'm a new value\n",
    "\n",
    "b = MyClass()\n",
    "b.print_class_var()  # 输出: I'm a class variable\n"
   ]
  },
  {
   "cell_type": "code",
   "execution_count": 3,
   "metadata": {},
   "outputs": [
    {
     "name": "stderr",
     "output_type": "stream",
     "text": [
      "Downloading: \"https://github.com/facebookresearch/dino/zipball/main\" to F:\\MyDataF\\tmp\\main.zip\n",
      "Downloading: \"https://dl.fbaipublicfiles.com/dino/dino_deitsmall8_pretrain/dino_deitsmall8_pretrain.pth\" to F:\\MyDataF\\tmp\\checkpoints\\dino_deitsmall8_pretrain.pth\n",
      "100%|██████████| 82.7M/82.7M [00:38<00:00, 2.23MB/s]\n"
     ]
    }
   ],
   "source": [
    "import torch\n",
    "torch.hub.set_dir(r\"F:\\MyDataF\\tmp\")\n",
    "model = torch.hub.load('facebookresearch/dino:main', 'dino_vits8')"
   ]
  }
 ],
 "metadata": {
  "kernelspec": {
   "display_name": "default",
   "language": "python",
   "name": "python3"
  },
  "language_info": {
   "codemirror_mode": {
    "name": "ipython",
    "version": 3
   },
   "file_extension": ".py",
   "mimetype": "text/x-python",
   "name": "python",
   "nbconvert_exporter": "python",
   "pygments_lexer": "ipython3",
   "version": "3.11.4"
  },
  "orig_nbformat": 4
 },
 "nbformat": 4,
 "nbformat_minor": 2
}
