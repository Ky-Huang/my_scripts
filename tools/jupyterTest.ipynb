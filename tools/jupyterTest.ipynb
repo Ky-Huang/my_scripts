{
 "cells": [
  {
   "cell_type": "code",
   "execution_count": 4,
   "metadata": {},
   "outputs": [],
   "source": [
    "import torch"
   ]
  },
  {
   "cell_type": "code",
   "execution_count": 136,
   "metadata": {},
   "outputs": [
    {
     "name": "stdout",
     "output_type": "stream",
     "text": [
      "False\n"
     ]
    }
   ],
   "source": [
    "\n",
    "x = torch.tensor([[1, 2, 3],\n",
    "                [4, 5, 6]], dtype=float, requires_grad=True)\n",
    "ind = torch.tensor([True, False])\n",
    "y = torch.relu(x)\n",
    "y = y.clone()\n",
    "p = y[:, 2]\n",
    "print(p is y)\n",
    "p[ind] = 0\n",
    "\n",
    "\n",
    "z = y[:, :2]\n",
    "w = y[:, 2]\n",
    "\n",
    "p.mean().backward()\n",
    "\n"
   ]
  },
  {
   "cell_type": "code",
   "execution_count": 133,
   "metadata": {},
   "outputs": [
    {
     "name": "stdout",
     "output_type": "stream",
     "text": [
      "tensor([-1.8175,  0.9743], dtype=torch.float64, grad_fn=<AddBackward0>)\n",
      "tensor([0.0000, 0.9743], dtype=torch.float64, grad_fn=<CopySlices>)\n"
     ]
    }
   ],
   "source": [
    "# x = torch.tensor([[1, 2, 3, 4, 5, 6]], dtype=float, requires_grad=True)\n",
    "x = torch.tensor([1, 2, 3], dtype=float)\n",
    "lin = torch.nn.Linear(3, 2, dtype=float)\n",
    "y = lin(x)\n",
    "print(y)\n",
    "y[0] = 0\n",
    "print(y)\n",
    "y.mean().backward()"
   ]
  },
  {
   "cell_type": "code",
   "execution_count": 1,
   "metadata": {},
   "outputs": [
    {
     "ename": "",
     "evalue": "",
     "output_type": "error",
     "traceback": [
      "\u001b[1;31m在当前单元格或上一个单元格中执行代码时 Kernel 崩溃。请查看单元格中的代码，以确定故障的可能原因。有关详细信息，请单击 <a href='https://aka.ms/vscodeJupyterKernelCrash'>此处</a>。有关更多详细信息，请查看 Jupyter <a href='command:jupyter.viewOutput'>log</a>。"
     ]
    }
   ],
   "source": [
    "import cv2\n",
    "img = cv2.imread(r'F:\\MyDataF\\xzx\\23.12.20\\D5\\instantNGP\\images\\JI_0235.JPG')\n",
    "cv2.imshow('1', img)\n",
    "img2 = cv2.cvtColor(img, cv2.COLOR_BGR2RGB)\n",
    "cv2.imshow('2', img2)\n",
    "cv2.waitKey(0)"
   ]
  }
 ],
 "metadata": {
  "kernelspec": {
   "display_name": "default",
   "language": "python",
   "name": "python3"
  },
  "language_info": {
   "codemirror_mode": {
    "name": "ipython",
    "version": 3
   },
   "file_extension": ".py",
   "mimetype": "text/x-python",
   "name": "python",
   "nbconvert_exporter": "python",
   "pygments_lexer": "ipython3",
   "version": "3.11.4"
  },
  "orig_nbformat": 4
 },
 "nbformat": 4,
 "nbformat_minor": 2
}
